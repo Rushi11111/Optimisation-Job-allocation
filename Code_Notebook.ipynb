{
  "nbformat": 4,
  "nbformat_minor": 0,
  "metadata": {
    "colab": {
      "name": "ASE_Project.ipynb",
      "provenance": [],
      "collapsed_sections": [
        "0pG1StqQfAxu",
        "zormJJ8Ce6kT",
        "WOuUJGH1EkK2",
        "BqK7FsJ-HP1M",
        "5MbSrFp40hnf",
        "SFuQVCCE1hqM"
      ]
    },
    "kernelspec": {
      "name": "python3",
      "display_name": "Python 3"
    },
    "language_info": {
      "name": "python"
    }
  },
  "cells": [
    {
      "cell_type": "code",
      "metadata": {
        "id": "dBK-dwKU07h6",
        "colab": {
          "base_uri": "https://localhost:8080/"
        },
        "outputId": "543b3e5c-b14f-48c1-ade9-dd91b3f4bb26"
      },
      "source": [
        "!pip install pulp"
      ],
      "execution_count": 32,
      "outputs": [
        {
          "output_type": "stream",
          "name": "stdout",
          "text": [
            "Requirement already satisfied: pulp in /usr/local/lib/python3.7/dist-packages (2.6.0)\n"
          ]
        }
      ]
    },
    {
      "cell_type": "code",
      "metadata": {
        "id": "nd_KCHwGQSU4"
      },
      "source": [
        "from pulp import *\n",
        "import numpy as np\n",
        "import math\n",
        "import prettytable as PT\n",
        "import matplotlib.pyplot as plt\n",
        "from prettytable import DOUBLE_BORDER\n"
      ],
      "execution_count": 33,
      "outputs": []
    },
    {
      "cell_type": "markdown",
      "metadata": {
        "id": "0pG1StqQfAxu"
      },
      "source": [
        "### Function For Defining Optimisation Problem"
      ]
    },
    {
      "cell_type": "code",
      "metadata": {
        "id": "7KKzt9kIeXOD"
      },
      "source": [
        "def getProb(n,m,l,stages,B,SE,TC,NE,HC,CE,map,manMap):\n",
        "    prob = LpProblem(\"The_Problem\",LpMaximize)\n",
        "    M = [x for x in range(m)]\n",
        "    N = [x for x in range(n)]\n",
        "    STAG = [x for x in range(1,stages + 1)]\n",
        "\n",
        "    A = LpVariable.dicts('Yskz', (M,N,STAG) , cat=\"Binary\" )\n",
        "    prob += pulp.lpSum([(CE[k] + SE[k][s] + NE[k][s])*A[s][k][lamb] for k in range(n) for s in range(m) for lamb in range(1,stages + 1)])\n",
        "\n",
        "    for lamb in range(1,stages + 1):\n",
        "        prob += pulp.lpSum([(CE[k] + SE[k][s] + NE[k][s])*A[s][k][lamb] for k in range(n) for s in range(m) ] ) - pulp.lpSum([T[lamb]*manMap[s][lamb]/100 for s in range(m)]) >= 0\n",
        "\n",
        "    prob +=  pulp.lpSum([ (HC[k] * A[s][k][lamb] * map[lamb]) for s in range(m) for lamb in range(1,stages + 1) for k in range(n)]) + pulp.lpSum( [A[s][k][lamb]*TC[k][s] for k in range(n) for s in range(m) for lamb in range(2,stages + 1) ]) <= B\n",
        "\n",
        "    for k in range(n):\n",
        "        for lamb in range(1,stages + 1):\n",
        "            prob += pulp.lpSum([A[s][k][lamb] for s in range(m)]) <= 1\n",
        "\n",
        "    for s in range(m):\n",
        "        for lamb in range(1,stages + 1):\n",
        "            prob += pulp.lpSum([A[s][k][lamb] for k in range(n)]) == manMap[s][lamb]\n",
        "\n",
        "    return [prob,A]\n",
        "\n",
        "def getProbMinBudget(n,m,l,stages,minEfficiency,SE,TC,NE,HC,CE,map,manMap):\n",
        "    prob = LpProblem(\"The_Problem\",LpMinimize)\n",
        "    M = [x for x in range(m)]\n",
        "    N = [x for x in range(n)]\n",
        "    STAG = [x for x in range(1,stages + 1)]\n",
        "\n",
        "    A = LpVariable.dicts('Yskz', (M,N,STAG) , cat=\"Binary\" )\n",
        "\n",
        "    prob += pulp.lpSum([ (HC[k]*A[s][k][lamb]*map[lamb]) for s in range(m) for lamb in range(1,stages + 1) for k in range(n)])\n",
        "    \n",
        "    for lamb in range(1,stages + 1):\n",
        "        prob += pulp.lpSum([(CE[k] + SE[k][s] + NE[k][s])*A[s][k][lamb] for k in range(n) for s in range(m) ] ) - pulp.lpSum([T[lamb]*manMap[s][lamb]/100 for s in range(m)]) >= 0\n",
        "\n",
        "    prob += pulp.lpSum([(CE[k] + SE[k][s] + NE[k][s])*A[s][k][lamb] for k in range(n) for s in range(m) for lamb in range(1,stages + 1)]) >= minEfficiency\n",
        "\n",
        "    for k in range(n):\n",
        "        for lamb in range(1,stages + 1):\n",
        "            prob += pulp.lpSum([A[s][k][lamb] for s in range(m)]) <= 1\n",
        "\n",
        "    for s in range(m):\n",
        "        for lamb in range(1,stages + 1):\n",
        "            prob += pulp.lpSum([A[s][k][lamb] for k in range(n)]) == manMap[s][lamb]\n",
        "\n",
        "    return [prob,A]"
      ],
      "execution_count": 34,
      "outputs": []
    },
    {
      "cell_type": "markdown",
      "metadata": {
        "id": "zormJJ8Ce6kT"
      },
      "source": [
        "### Global Variables"
      ]
    },
    {
      "cell_type": "code",
      "metadata": {
        "id": "wk3IVUB34djh"
      },
      "source": [
        "m = 5\n",
        "n = 12\n",
        "l = 471\n",
        "stages = 7\n",
        "\n",
        "SE = [[] for i in range(n)]\n",
        "TC = [[] for i in range(n)]\n",
        "NE = [[] for i in range(n)]\n",
        "HC = []\n",
        "CE = []\n",
        "\n",
        "file = open('/content/data.txt')\n",
        "\n",
        "j = 0\n",
        "for line in file.readlines():\n",
        "    arr = line.split()\n",
        "    for i in range(len(arr)):\n",
        "        if(i%3 == 0):\n",
        "            SE[j].append(float(arr[i]))\n",
        "        elif(i%3 == 1):\n",
        "            TC[j].append(float(arr[i]))\n",
        "        elif(i%3 == 2):\n",
        "            NE[j].append(float(arr[i]))\n",
        "    j += 1\n",
        "\n",
        "file.close()\n",
        "\n",
        "\n",
        "file = open('/content/data1.txt')\n",
        "j = 0\n",
        "for line in file.readlines():\n",
        "    arr = line.split()\n",
        "    HC.append(float(arr[0]))\n",
        "    CE.append(float(arr[1]))\n",
        "    j += 1\n",
        "file.close()\n",
        "\n",
        "map = np.zeros((8), dtype = np.float32)\n",
        "map[1] = 0.33\n",
        "map[2] = 0.5\n",
        "map[3] = 2\n",
        "map[4] = 3\n",
        "map[5] = 7\n",
        "map[6] = 2\n",
        "map[7] = 1.5\n",
        "\n",
        "manMap = [[0 for y in range(0,stages+1)] for x in range(m)]\n",
        "\n",
        "manMap[0][1] = 1\n",
        "manMap[0][2] = 1\n",
        "manMap[0][7] = 1\n",
        "manMap[1][3] = 4\n",
        "manMap[1][4] = 2\n",
        "manMap[1][5] = 4\n",
        "manMap[1][6] = 2\n",
        "manMap[1][7] = 4\n",
        "manMap[2][4] = 2\n",
        "manMap[2][5] = 2\n",
        "manMap[3][5] = 4\n",
        "manMap[4][6] = 4\n",
        "\n",
        "T = [0,70,50,300,310,760,460,350]"
      ],
      "execution_count": 35,
      "outputs": []
    },
    {
      "cell_type": "markdown",
      "metadata": {
        "id": "pxw0jgrwd8Qn"
      },
      "source": [
        "### Maximise Efficiency Without Budget Limit"
      ]
    },
    {
      "cell_type": "code",
      "metadata": {
        "id": "qInyoGgoA4Uc",
        "colab": {
          "base_uri": "https://localhost:8080/"
        },
        "outputId": "4b58df1e-f294-4d00-c4ed-e65ce4896ad5"
      },
      "source": [
        "B = 600000000000\n",
        "prob,A = getProb(n,m,l,stages,B,SE,TC,NE,HC,CE,map,manMap)\n",
        "\n",
        "prob.solve()\n",
        "print(\"Status:\", LpStatus[prob.status])\n",
        "print(\"Eficiency:\", prob.objective.value())\n",
        "\n",
        "budgetUsed = 0\n",
        "\n",
        "for k in range(n) :\n",
        "  for lamb in range(1,stages + 1) :\n",
        "    for s in range(m) :\n",
        "      budgetUsed += pulp.lpSum( HC[k] * A[s][k][lamb].varValue *map[lamb]) \n",
        "\n",
        "for k in range(n) :\n",
        "  for s in range(m) :\n",
        "    for lamb in range(1,stages) :\n",
        "      budgetUsed += TC[k][s]*A[s][k][lamb].varValue*(1 - A[s][k][lamb + 1].varValue)\n",
        "\n",
        "print(\"Budget:\",  int(budgetUsed.value()))\n",
        "\n",
        "toPrint = [[[] for s in range(m)] for x in range(0,stages + 1)]\n",
        "\n",
        "for lamb in range(1,stages + 1):\n",
        "    for s in range(m):\n",
        "        for k in range(n):\n",
        "            if(int(A[s][k][lamb].varValue) == 1):\n",
        "                toPrint[lamb][s].append(k)\n",
        "\n",
        "myTable = PT.PrettyTable([\"Stage Of Project\",\"PM\",\"SA\",\"SD\",\"PG\",\"QA\"])\n",
        "myTable.set_style(DOUBLE_BORDER)\n",
        "\n",
        "for x in range(1,stages+1):\n",
        "    tmp = [x]\n",
        "    tmp.extend(toPrint[x])\n",
        "    for i in range(1,m+1):\n",
        "        tmp[i] = \" \".join([chr(tmp[i][j] + ord('A')) for j in range(len(tmp[i]))])\n",
        "    if(len(tmp) != 0):\n",
        "        myTable.add_row(tmp)\n",
        "\n",
        "print(myTable)"
      ],
      "execution_count": 36,
      "outputs": [
        {
          "output_type": "stream",
          "name": "stdout",
          "text": [
            "Status: Optimal\n",
            "Eficiency: 3430.5\n",
            "Budget: 6594954\n",
            "╔══════════════════╦════╦═════════╦═════╦═════════╦═════════╗\n",
            "║ Stage Of Project ║ PM ║    SA   ║  SD ║    PG   ║    QA   ║\n",
            "╠══════════════════╬════╬═════════╬═════╬═════════╬═════════╣\n",
            "║        1         ║ A  ║         ║     ║         ║         ║\n",
            "║        2         ║ A  ║         ║     ║         ║         ║\n",
            "║        3         ║    ║ A B C J ║     ║         ║         ║\n",
            "║        4         ║    ║   A C   ║ F J ║         ║         ║\n",
            "║        5         ║    ║ A B C G ║ D J ║ E F H K ║         ║\n",
            "║        6         ║    ║   A C   ║     ║         ║ B H I J ║\n",
            "║        7         ║ I  ║ A B C J ║     ║         ║         ║\n",
            "╚══════════════════╩════╩═════════╩═════╩═════════╩═════════╝\n"
          ]
        }
      ]
    },
    {
      "cell_type": "markdown",
      "metadata": {
        "id": "OhAB2He0eId2"
      },
      "source": [
        "### Maximise Efficiency With Budget Limit"
      ]
    },
    {
      "cell_type": "code",
      "metadata": {
        "id": "604b-WuofS-r",
        "colab": {
          "base_uri": "https://localhost:8080/"
        },
        "outputId": "e1a7ad89-c3d0-4b97-c421-86c7244649b7"
      },
      "source": [
        "B = 6000000\n",
        "prob,A = getProb(n,m,l,stages,B,SE,TC,NE,HC,CE,map,manMap)\n",
        "\n",
        "prob.solve()\n",
        "print(\"Status:\", LpStatus[prob.status])\n",
        "print(\"Eficiency:\", prob.objective.value())\n",
        "\n",
        "budgetUsed = 0\n",
        "\n",
        "for k in range(n) :\n",
        "  for lamb in range(1,stages + 1) :\n",
        "    for s in range(m) :\n",
        "      budgetUsed += pulp.lpSum( HC[k] * A[s][k][lamb].varValue *map[lamb]) \n",
        "\n",
        "for k in range(n) :\n",
        "  for s in range(m) :\n",
        "    for lamb in range(1,stages) :\n",
        "      budgetUsed += TC[k][s]*A[s][k][lamb].varValue*(1 - A[s][k][lamb + 1].varValue)\n",
        "\n",
        "print(\"Budget:\",  int(budgetUsed.value()))\n",
        "\n",
        "toPrint = [[[] for s in range(m)] for x in range(0,stages + 1)]\n",
        "\n",
        "for lamb in range(1,stages + 1):\n",
        "    for s in range(m):\n",
        "        for k in range(n):\n",
        "            if(int(A[s][k][lamb].varValue) == 1):\n",
        "                toPrint[lamb][s].append(k)\n",
        "\n",
        "myTable = PT.PrettyTable([\"Stage Of Project\",\"PM\",\"SA\",\"SD\",\"PG\",\"QA\"])\n",
        "myTable.set_style(DOUBLE_BORDER)\n",
        "\n",
        "for x in range(1,stages+1):\n",
        "    tmp = [x]\n",
        "    tmp.extend(toPrint[x])\n",
        "    for i in range(1,m+1):\n",
        "        tmp[i] = \" \".join([chr(tmp[i][j] + ord('A')) for j in range(len(tmp[i]))])\n",
        "    if(len(tmp) != 0):\n",
        "        myTable.add_row(tmp)\n",
        "\n",
        "print(myTable)"
      ],
      "execution_count": 37,
      "outputs": [
        {
          "output_type": "stream",
          "name": "stdout",
          "text": [
            "Status: Optimal\n",
            "Eficiency: 3013.5\n",
            "Budget: 5999094\n",
            "╔══════════════════╦════╦═════════╦═════╦═════════╦═════════╗\n",
            "║ Stage Of Project ║ PM ║    SA   ║  SD ║    PG   ║    QA   ║\n",
            "╠══════════════════╬════╬═════════╬═════╬═════════╬═════════╣\n",
            "║        1         ║ A  ║         ║     ║         ║         ║\n",
            "║        2         ║ A  ║         ║     ║         ║         ║\n",
            "║        3         ║    ║ C G H J ║     ║         ║         ║\n",
            "║        4         ║    ║   C G   ║ D H ║         ║         ║\n",
            "║        5         ║    ║ B C G I ║ D J ║ E H K L ║         ║\n",
            "║        6         ║    ║   C D   ║     ║         ║ G H I J ║\n",
            "║        7         ║ I  ║ B C G J ║     ║         ║         ║\n",
            "╚══════════════════╩════╩═════════╩═════╩═════════╩═════════╝\n"
          ]
        }
      ]
    },
    {
      "cell_type": "markdown",
      "metadata": {
        "id": "WOuUJGH1EkK2"
      },
      "source": [
        "### Maximise Efficiency Without Budget, CE and NE"
      ]
    },
    {
      "cell_type": "code",
      "metadata": {
        "id": "Kj11TIpjE294",
        "colab": {
          "base_uri": "https://localhost:8080/"
        },
        "outputId": "9063ac46-cfc2-4937-de9f-d2764f5dad7d"
      },
      "source": [
        "NE1 = [[0 for j in range(m)] for i in range(n)]\n",
        "CE1 = [0 for j in range(n)]\n",
        "B = 60000000000000\n",
        "prob,A = getProb(n,m,l,stages,B,SE,TC,NE1,HC,CE1,map,manMap)\n",
        "\n",
        "prob.solve()\n",
        "print(\"Status:\", LpStatus[prob.status])\n",
        "print(\"Eficiency:\", prob.objective.value())\n",
        "\n",
        "budgetUsed = 0\n",
        "\n",
        "for k in range(n) :\n",
        "  for lamb in range(1,stages + 1) :\n",
        "    for s in range(m) :\n",
        "      budgetUsed += pulp.lpSum( HC[k] * A[s][k][lamb].varValue *map[lamb]) \n",
        "\n",
        "for k in range(n) :\n",
        "  for s in range(m) :\n",
        "    for lamb in range(1,stages) :\n",
        "      budgetUsed += TC[k][s]*A[s][k][lamb].varValue*(1 - A[s][k][lamb + 1].varValue)\n",
        "\n",
        "print(\"Budget:\",  int(budgetUsed.value()))\n",
        "\n",
        "toPrint = [[[] for s in range(m)] for x in range(0,stages + 1)]\n",
        "\n",
        "for lamb in range(1,stages + 1):\n",
        "    for s in range(m):\n",
        "        for k in range(n):\n",
        "            if(int(A[s][k][lamb].varValue) == 1):\n",
        "                toPrint[lamb][s].append(k)\n",
        "\n",
        "myTable = PT.PrettyTable([\"Stage Of Project\",\"PM\",\"SA\",\"SD\",\"PG\",\"QA\"])\n",
        "myTable.set_style(DOUBLE_BORDER)\n",
        "\n",
        "for x in range(1,stages+1):\n",
        "    tmp = [x]\n",
        "    tmp.extend(toPrint[x])\n",
        "    for i in range(1,m+1):\n",
        "        tmp[i] = \" \".join([chr(tmp[i][j] + ord('A')) for j in range(len(tmp[i]))])\n",
        "    if(len(tmp) != 0):\n",
        "        myTable.add_row(tmp)\n",
        "\n",
        "print(myTable)"
      ],
      "execution_count": 38,
      "outputs": [
        {
          "output_type": "stream",
          "name": "stdout",
          "text": [
            "Status: Optimal\n",
            "Eficiency: 2735.0\n",
            "Budget: 6657948\n",
            "╔══════════════════╦════╦═════════╦═════╦═════════╦═════════╗\n",
            "║ Stage Of Project ║ PM ║    SA   ║  SD ║    PG   ║    QA   ║\n",
            "╠══════════════════╬════╬═════════╬═════╬═════════╬═════════╣\n",
            "║        1         ║ A  ║         ║     ║         ║         ║\n",
            "║        2         ║ A  ║         ║     ║         ║         ║\n",
            "║        3         ║    ║ A B C J ║     ║         ║         ║\n",
            "║        4         ║    ║   A C   ║ D F ║         ║         ║\n",
            "║        5         ║    ║ A B C G ║ D J ║ E F K L ║         ║\n",
            "║        6         ║    ║   A C   ║     ║         ║ B H I J ║\n",
            "║        7         ║ I  ║ A B C J ║     ║         ║         ║\n",
            "╚══════════════════╩════╩═════════╩═════╩═════════╩═════════╝\n"
          ]
        }
      ]
    },
    {
      "cell_type": "markdown",
      "metadata": {
        "id": "BqK7FsJ-HP1M"
      },
      "source": [
        "### Minimise Budget With given Efficiency"
      ]
    },
    {
      "cell_type": "code",
      "metadata": {
        "id": "YOLeuOjjIF6H",
        "colab": {
          "base_uri": "https://localhost:8080/"
        },
        "outputId": "f30b413a-3943-4950-aa22-9872cb7a8b06"
      },
      "source": [
        "minEfficiency = 2500\n",
        "prob,A = getProbMinBudget(n,m,l,stages,minEfficiency,SE,TC,NE,HC,CE,map,manMap)\n",
        "\n",
        "prob.solve()\n",
        "print(\"Status:\", LpStatus[prob.status])\n",
        "print(\"Budget:\", int(prob.objective.value()))\n",
        "\n",
        "effGot = pulp.lpSum([(CE[k] + SE[k][s] + NE[k][s])*A[s][k][lamb].varValue for k in range(n) for s in range(m) for lamb in range(1,stages + 1)])\n",
        "\n",
        "print(\"Eficiency:\",  int(effGot.value()))\n",
        "\n",
        "toPrint = [[[] for s in range(m)] for x in range(0,stages + 1)]\n",
        "\n",
        "for lamb in range(1,stages + 1):\n",
        "    for s in range(m):\n",
        "        for k in range(n):\n",
        "            if(int(A[s][k][lamb].varValue) == 1):\n",
        "                toPrint[lamb][s].append(k)\n",
        "\n",
        "myTable = PT.PrettyTable([\"Stage Of Project\",\"PM\",\"SA\",\"SD\",\"PG\",\"QA\"])\n",
        "myTable.set_style(DOUBLE_BORDER)\n",
        "\n",
        "for x in range(1,stages+1):\n",
        "    tmp = [x]\n",
        "    tmp.extend(toPrint[x])\n",
        "    for i in range(1,m+1):\n",
        "        tmp[i] = \" \".join([chr(tmp[i][j] + ord('A')) for j in range(len(tmp[i]))])\n",
        "    if(len(tmp) != 0):\n",
        "        myTable.add_row(tmp)\n",
        "\n",
        "print(myTable)"
      ],
      "execution_count": 39,
      "outputs": [
        {
          "output_type": "stream",
          "name": "stdout",
          "text": [
            "Status: Optimal\n",
            "Budget: 5786330\n",
            "Eficiency: 2501\n",
            "╔══════════════════╦════╦═════════╦═════╦═════════╦═════════╗\n",
            "║ Stage Of Project ║ PM ║    SA   ║  SD ║    PG   ║    QA   ║\n",
            "╠══════════════════╬════╬═════════╬═════╬═════════╬═════════╣\n",
            "║        1         ║ I  ║         ║     ║         ║         ║\n",
            "║        2         ║ I  ║         ║     ║         ║         ║\n",
            "║        3         ║    ║ D G H I ║     ║         ║         ║\n",
            "║        4         ║    ║   G I   ║ D H ║         ║         ║\n",
            "║        5         ║    ║ B C G I ║ D J ║ E H K L ║         ║\n",
            "║        6         ║    ║   D E   ║     ║         ║ G H I K ║\n",
            "║        7         ║ I  ║ D E G H ║     ║         ║         ║\n",
            "╚══════════════════╩════╩═════════╩═════╩═════════╩═════════╝\n"
          ]
        }
      ]
    },
    {
      "cell_type": "markdown",
      "metadata": {
        "id": "5MbSrFp40hnf"
      },
      "source": [
        "### Minimise Budget Without Efficiency Constraint "
      ]
    },
    {
      "cell_type": "code",
      "metadata": {
        "colab": {
          "base_uri": "https://localhost:8080/"
        },
        "id": "c9Ly3YN80rx7",
        "outputId": "21c4e7ba-519e-4459-d320-792d34ec7143"
      },
      "source": [
        "minEfficiency = 0\n",
        "prob,A = getProbMinBudget(n,m,l,stages,minEfficiency,SE,TC,NE,HC,CE,map,manMap)\n",
        "\n",
        "prob.solve()\n",
        "print(\"Status:\", LpStatus[prob.status])\n",
        "print(\"Budget:\", int(prob.objective.value()))\n",
        "\n",
        "effGot = pulp.lpSum([(CE[k] + SE[k][s] + NE[k][s])*A[s][k][lamb].varValue for k in range(n) for s in range(m) for lamb in range(1,stages + 1)])\n",
        "\n",
        "print(\"Eficiency:\",  int(effGot.value()))\n",
        "\n",
        "toPrint = [[[] for s in range(m)] for x in range(0,stages + 1)]\n",
        "\n",
        "for lamb in range(1,stages + 1):\n",
        "    for s in range(m):\n",
        "        for k in range(n):\n",
        "            if(int(A[s][k][lamb].varValue) == 1):\n",
        "                toPrint[lamb][s].append(k)\n",
        "\n",
        "myTable = PT.PrettyTable([\"Stage Of Project\",\"PM\",\"SA\",\"SD\",\"PG\",\"QA\"])\n",
        "myTable.set_style(DOUBLE_BORDER)\n",
        "\n",
        "for x in range(1,stages+1):\n",
        "    tmp = [x]\n",
        "    tmp.extend(toPrint[x])\n",
        "    for i in range(1,m+1):\n",
        "        tmp[i] = \" \".join([chr(tmp[i][j] + ord('A')) for j in range(len(tmp[i]))])\n",
        "    if(len(tmp) != 0):\n",
        "        myTable.add_row(tmp)\n",
        "\n",
        "print(myTable)"
      ],
      "execution_count": 40,
      "outputs": [
        {
          "output_type": "stream",
          "name": "stdout",
          "text": [
            "Status: Optimal\n",
            "Budget: 5778860\n",
            "Eficiency: 1994\n",
            "╔══════════════════╦════╦═════════╦═════╦═════════╦═════════╗\n",
            "║ Stage Of Project ║ PM ║    SA   ║  SD ║    PG   ║    QA   ║\n",
            "╠══════════════════╬════╬═════════╬═════╬═════════╬═════════╣\n",
            "║        1         ║ G  ║         ║     ║         ║         ║\n",
            "║        2         ║ G  ║         ║     ║         ║         ║\n",
            "║        3         ║    ║ D G H I ║     ║         ║         ║\n",
            "║        4         ║    ║   D G   ║ H I ║         ║         ║\n",
            "║        5         ║    ║ G I K L ║ D J ║ B C E H ║         ║\n",
            "║        6         ║    ║   E K   ║     ║         ║ D G H I ║\n",
            "║        7         ║ E  ║ D G H I ║     ║         ║         ║\n",
            "╚══════════════════╩════╩═════════╩═════╩═════════╩═════════╝\n"
          ]
        }
      ]
    },
    {
      "cell_type": "markdown",
      "metadata": {
        "id": "SFuQVCCE1hqM"
      },
      "source": [
        "### Minimise Budget Without NE CE"
      ]
    },
    {
      "cell_type": "code",
      "metadata": {
        "colab": {
          "base_uri": "https://localhost:8080/"
        },
        "id": "wT4UKAKh1sQD",
        "outputId": "d7e319f6-6e0e-4836-8d9a-25c184f22d8b"
      },
      "source": [
        "minEfficiency = 2200\n",
        "NE1 = [[0 for j in range(m)] for i in range(n)]\n",
        "CE1 = [0 for j in range(n)]\n",
        "\n",
        "prob,A = getProbMinBudget(n,m,l,stages,minEfficiency,SE,TC,NE1,HC,CE1,map,manMap)\n",
        "\n",
        "prob.solve()\n",
        "print(\"Status:\", LpStatus[prob.status])\n",
        "print(\"Budget:\", int(prob.objective.value()))\n",
        "\n",
        "effGot = pulp.lpSum([(CE1[k] + SE[k][s] + NE1[k][s])*A[s][k][lamb].varValue for k in range(n) for s in range(m) for lamb in range(1,stages + 1)])\n",
        "\n",
        "print(\"Eficiency:\",  int(effGot.value()))\n",
        "\n",
        "toPrint = [[[] for s in range(m)] for x in range(0,stages + 1)]\n",
        "\n",
        "for lamb in range(1,stages + 1):\n",
        "    for s in range(m):\n",
        "        for k in range(n):\n",
        "            if(int(A[s][k][lamb].varValue) == 1):\n",
        "                toPrint[lamb][s].append(k)\n",
        "\n",
        "myTable = PT.PrettyTable([\"Stage Of Project\",\"PM\",\"SA\",\"SD\",\"PG\",\"QA\"])\n",
        "myTable.set_style(DOUBLE_BORDER)\n",
        "\n",
        "for x in range(1,stages+1):\n",
        "    tmp = [x]\n",
        "    tmp.extend(toPrint[x])\n",
        "    for i in range(1,m+1):\n",
        "        tmp[i] = \" \".join([chr(tmp[i][j] + ord('A')) for j in range(len(tmp[i]))])\n",
        "    if(len(tmp) != 0):\n",
        "        myTable.add_row(tmp)\n",
        "\n",
        "print(myTable)"
      ],
      "execution_count": 41,
      "outputs": [
        {
          "output_type": "stream",
          "name": "stdout",
          "text": [
            "Status: Optimal\n",
            "Budget: 5862600\n",
            "Eficiency: 2200\n",
            "╔══════════════════╦════╦═════════╦═════╦═════════╦═════════╗\n",
            "║ Stage Of Project ║ PM ║    SA   ║  SD ║    PG   ║    QA   ║\n",
            "╠══════════════════╬════╬═════════╬═════╬═════════╬═════════╣\n",
            "║        1         ║ A  ║         ║     ║         ║         ║\n",
            "║        2         ║ I  ║         ║     ║         ║         ║\n",
            "║        3         ║    ║ D E G H ║     ║         ║         ║\n",
            "║        4         ║    ║   G H   ║ D E ║         ║         ║\n",
            "║        5         ║    ║ B C G I ║ D J ║ E H K L ║         ║\n",
            "║        6         ║    ║   C D   ║     ║         ║ G H I K ║\n",
            "║        7         ║ I  ║ C D E G ║     ║         ║         ║\n",
            "╚══════════════════╩════╩═════════╩═════╩═════════╩═════════╝\n"
          ]
        }
      ]
    },
    {
      "cell_type": "markdown",
      "metadata": {
        "id": "hjKpW9ykyzke"
      },
      "source": [
        "### Plot Trade-Off"
      ]
    },
    {
      "cell_type": "code",
      "metadata": {
        "colab": {
          "base_uri": "https://localhost:8080/",
          "height": 297
        },
        "id": "eIM34onizd7o",
        "outputId": "51a31979-90f1-4f20-9446-68bd746479d4"
      },
      "source": [
        "eff = range(2200,3431,10)\n",
        "bud = []\n",
        "for x in eff:\n",
        "    prob,A = getProbMinBudget(n,m,l,stages,x,SE,TC,NE,HC,CE,map,manMap)\n",
        "    prob.solve()\n",
        "    bud.append(prob.objective.value()/1000000)\n",
        "plt.ylabel('Required Minimum Efficiency')\n",
        "plt.xlabel('Minimum Budget(in million)')\n",
        "plt.plot(bud,eff)"
      ],
      "execution_count": 42,
      "outputs": [
        {
          "output_type": "execute_result",
          "data": {
            "text/plain": [
              "[<matplotlib.lines.Line2D at 0x7f886a285a50>]"
            ]
          },
          "metadata": {},
          "execution_count": 42
        },
        {
          "output_type": "display_data",
          "data": {
            "image/png": "[encoded data removed]",
            "text/plain": [
              "<Figure size 432x288 with 1 Axes>"
            ]
          },
          "metadata": {
            "needs_background": "light"
          }
        }
      ]
    },
    {
      "cell_type": "code",
      "metadata": {
        "colab": {
          "base_uri": "https://localhost:8080/",
          "height": 297
        },
        "id": "RpQsDZeNz35W",
        "outputId": "bfd5b4c1-4803-4555-a757-4c4891d32510"
      },
      "source": [
        "bud1 = range(5800000,6700001,100000)\n",
        "eff1 = []\n",
        "for x in bud1:\n",
        "    prob,A = getProb(n,m,l,stages,x,SE,TC,NE,HC,CE,map,manMap)\n",
        "    prob.solve()\n",
        "    eff1.append(prob.objective.value())\n",
        "\n",
        "bud1 = [x/1000000 for x in bud1]\n",
        "plt.plot(bud1,eff1)\n",
        "plt.ylabel('Maximum Efficiency')\n",
        "plt.xlabel('Budget(in million) Allocated')"
      ],
      "execution_count": 43,
      "outputs": [
        {
          "output_type": "execute_result",
          "data": {
            "text/plain": [
              "Text(0.5, 0, 'Budget(in million) Allocated')"
            ]
          },
          "metadata": {},
          "execution_count": 43
        },
        {
          "output_type": "display_data",
          "data": {
            "image/png": "[encoded data removed]",
            "text/plain": [
              "<Figure size 432x288 with 1 Axes>"
            ]
          },
          "metadata": {
            "needs_background": "light"
          }
        }
      ]
    },
    {
      "cell_type": "code",
      "metadata": {
        "colab": {
          "base_uri": "https://localhost:8080/",
          "height": 283
        },
        "id": "IIn-Kb6w1FJl",
        "outputId": "2184839d-8ddb-4a90-8853-48942c0eea91"
      },
      "source": [
        "plt.plot(bud1,eff1)\n",
        "plt.plot(bud,eff)"
      ],
      "execution_count": 44,
      "outputs": [
        {
          "output_type": "execute_result",
          "data": {
            "text/plain": [
              "[<matplotlib.lines.Line2D at 0x7f8869c631d0>]"
            ]
          },
          "metadata": {},
          "execution_count": 44
        },
        {
          "output_type": "display_data",
          "data": {
            "image/png": "[encoded data removed]",
            "text/plain": [
              "<Figure size 432x288 with 1 Axes>"
            ]
          },
          "metadata": {
            "needs_background": "light"
          }
        }
      ]
    },
    {
      "cell_type": "markdown",
      "metadata": {
        "id": "iNeL-2ga8Vm4"
      },
      "source": [
        "### Get Best Value For Money"
      ]
    },
    {
      "cell_type": "code",
      "metadata": {
        "id": "MLiDGY_P4ArY"
      },
      "source": [
        "def getTradeOff(ratio):\n",
        "    prob,A = getProb(n,m,l,stages,600000000000,SE,TC,NE,HC,CE,map,manMap)\n",
        "    prob.solve()\n",
        "    maxEff = prob.objective.value()\n",
        "\n",
        "    prob,A = getProbMinBudget(n,m,l,stages,0,SE,TC,NE,HC,CE,map,manMap)\n",
        "    prob.solve()\n",
        "    minEff = sum([(CE1[k] + SE[k][s] + NE1[k][s])*A[s][k][lamb].varValue for k in range(n) for s in range(m) for lamb in range(1,stages + 1)])\n",
        "    minBud = prob.objective.value()\n",
        "\n",
        "    eff = list(range(int(minEff) + 1,int(maxEff),5))\n",
        "    bud = []\n",
        "    for x in eff:\n",
        "        prob,A = getProbMinBudget(n,m,l,stages,x,SE,TC,NE,HC,CE,map,manMap)\n",
        "        prob.solve()\n",
        "        bud.append(prob.objective.value()/1000000)\n",
        "    \n",
        "    k = 0\n",
        "    linex = [bud[0]]\n",
        "    liney = [eff[0]]\n",
        "    for i in range(1,len(bud)):\n",
        "         linex.append(bud[i])\n",
        "         liney.append(liney[i-1] + liney[0] * ratio * (linex[i] - linex[0])/linex[0])\n",
        "         if(eff[i] >= liney[i]):\n",
        "             k = i\n",
        "\n",
        "    print(\"Best Trade-Off Budget (in millions): \", round(bud[k],3))\n",
        "    print(\"Corresponding Efficiency: \", eff[k])   \n",
        "\n",
        "    plt.ylim([eff[0],eff[-1]])\n",
        "    plt.ylabel('Maximum Efficiency')\n",
        "    plt.xlabel('Budget(in million)')\n",
        "    plt.plot(bud,eff,label = 'Real')\n",
        "    plt.plot(linex,liney,label='Simulated')\n",
        "    plt.legend()"
      ],
      "execution_count": 45,
      "outputs": []
    },
    {
      "cell_type": "code",
      "metadata": {
        "colab": {
          "base_uri": "https://localhost:8080/",
          "height": 314
        },
        "id": "h9DBaoGaAu_J",
        "outputId": "6b61161d-a8cf-405f-ea01-52cbdcbfed85"
      },
      "source": [
        "getTradeOff(1)"
      ],
      "execution_count": 46,
      "outputs": [
        {
          "output_type": "stream",
          "name": "stdout",
          "text": [
            "Best Trade-Off Budget (in millions):  5.918\n",
            "Corresponding Efficiency:  2876\n"
          ]
        },
        {
          "output_type": "display_data",
          "data": {
            "image/png": "[encoded data removed]",
            "text/plain": [
              "<Figure size 432x288 with 1 Axes>"
            ]
          },
          "metadata": {
            "needs_background": "light"
          }
        }
      ]
    },
    {
      "cell_type": "code",
      "metadata": {
        "id": "2HumYPl6AyTW"
      },
      "source": [
        ""
      ],
      "execution_count": 46,
      "outputs": []
    }
  ]
}